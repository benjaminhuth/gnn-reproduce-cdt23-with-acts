{
 "cells": [
  {
   "cell_type": "code",
   "execution_count": 2,
   "id": "bf1d374d-40ad-478c-b320-e6c0c647f924",
   "metadata": {
    "tags": []
   },
   "outputs": [],
   "source": [
    "import glob\n",
    "import sys\n",
    "sys.path.append(\"/home/bhuth/gnn/acorn\")"
   ]
  },
  {
   "cell_type": "code",
   "execution_count": 1,
   "id": "ba5fbf9f-b0e1-46d9-b464-8d2d8a5e9a7d",
   "metadata": {
    "tags": []
   },
   "outputs": [],
   "source": [
    "import torch"
   ]
  },
  {
   "cell_type": "code",
   "execution_count": 5,
   "id": "92176f4c-335e-4fb7-8898-a1aa3c796066",
   "metadata": {
    "tags": []
   },
   "outputs": [],
   "source": [
    "from acorn.stages.edge_classifier.models.interaction_gnn import *"
   ]
  },
  {
   "cell_type": "code",
   "execution_count": 8,
   "id": "1361c7b3-08f7-4820-91c4-5191076a7690",
   "metadata": {
    "tags": []
   },
   "outputs": [
    {
     "data": {
      "text/plain": [
       "InteractionGNN2WithPyG(\n",
       "  (node_encoder): Sequential(\n",
       "    (0): Linear(in_features=10, out_features=128, bias=True)\n",
       "    (1): BatchNorm1d(128, eps=6e-05, momentum=0.1, affine=True, track_running_stats=False)\n",
       "    (2): ReLU()\n",
       "    (3): Linear(in_features=128, out_features=128, bias=True)\n",
       "    (4): BatchNorm1d(128, eps=6e-05, momentum=0.1, affine=True, track_running_stats=False)\n",
       "    (5): ReLU()\n",
       "    (6): Linear(in_features=128, out_features=128, bias=True)\n",
       "    (7): ReLU()\n",
       "  )\n",
       "  (edge_encoder): Sequential(\n",
       "    (0): Linear(in_features=4, out_features=128, bias=True)\n",
       "    (1): BatchNorm1d(128, eps=6e-05, momentum=0.1, affine=True, track_running_stats=False)\n",
       "    (2): ReLU()\n",
       "    (3): Linear(in_features=128, out_features=128, bias=True)\n",
       "    (4): BatchNorm1d(128, eps=6e-05, momentum=0.1, affine=True, track_running_stats=False)\n",
       "    (5): ReLU()\n",
       "    (6): Linear(in_features=128, out_features=128, bias=True)\n",
       "    (7): ReLU()\n",
       "  )\n",
       "  (edge_network): ModuleList(\n",
       "    (0-7): 8 x Sequential(\n",
       "      (0): Linear(in_features=768, out_features=128, bias=True)\n",
       "      (1): BatchNorm1d(128, eps=6e-05, momentum=0.1, affine=True, track_running_stats=False)\n",
       "      (2): ReLU()\n",
       "      (3): Linear(in_features=128, out_features=128, bias=True)\n",
       "      (4): BatchNorm1d(128, eps=6e-05, momentum=0.1, affine=True, track_running_stats=False)\n",
       "      (5): ReLU()\n",
       "      (6): Linear(in_features=128, out_features=128, bias=True)\n",
       "      (7): ReLU()\n",
       "    )\n",
       "  )\n",
       "  (node_network): ModuleList(\n",
       "    (0-7): 8 x Sequential(\n",
       "      (0): Linear(in_features=512, out_features=128, bias=True)\n",
       "      (1): BatchNorm1d(128, eps=6e-05, momentum=0.1, affine=True, track_running_stats=False)\n",
       "      (2): ReLU()\n",
       "      (3): Linear(in_features=128, out_features=128, bias=True)\n",
       "      (4): BatchNorm1d(128, eps=6e-05, momentum=0.1, affine=True, track_running_stats=False)\n",
       "      (5): ReLU()\n",
       "      (6): Linear(in_features=128, out_features=128, bias=True)\n",
       "      (7): ReLU()\n",
       "    )\n",
       "  )\n",
       "  (edge_decoder): Sequential(\n",
       "    (0): Linear(in_features=128, out_features=128, bias=True)\n",
       "    (1): BatchNorm1d(128, eps=6e-05, momentum=0.1, affine=True, track_running_stats=False)\n",
       "    (2): ReLU()\n",
       "    (3): Linear(in_features=128, out_features=128, bias=True)\n",
       "    (4): BatchNorm1d(128, eps=6e-05, momentum=0.1, affine=True, track_running_stats=False)\n",
       "    (5): ReLU()\n",
       "    (6): Linear(in_features=128, out_features=128, bias=True)\n",
       "    (7): ReLU()\n",
       "  )\n",
       "  (edge_output_transform): Sequential(\n",
       "    (0): Linear(in_features=128, out_features=128, bias=True)\n",
       "    (1): BatchNorm1d(128, eps=6e-05, momentum=0.1, affine=True, track_running_stats=False)\n",
       "    (2): ReLU()\n",
       "    (3): Linear(in_features=128, out_features=1, bias=True)\n",
       "  )\n",
       "  (dropout): Dropout(p=0.1, inplace=False)\n",
       "  (convs): ModuleList(\n",
       "    (0-7): 8 x InteractionConv2()\n",
       "  )\n",
       ")"
      ]
     },
     "execution_count": 8,
     "metadata": {},
     "output_type": "execute_result"
    }
   ],
   "source": [
    "InteractionGNN2WithPyG.load_from_checkpoint(\"../ctd23/data/best-21796495-val_loss=0.000755-epoch=91.ckpt\")"
   ]
  },
  {
   "cell_type": "code",
   "execution_count": null,
   "id": "32a74fab-591c-454b-9d8b-7465f3dc3dda",
   "metadata": {},
   "outputs": [],
   "source": []
  }
 ],
 "metadata": {
  "kernelspec": {
   "display_name": "Python [conda env:acorn]",
   "language": "python",
   "name": "conda-env-acorn-py"
  },
  "language_info": {
   "codemirror_mode": {
    "name": "ipython",
    "version": 3
   },
   "file_extension": ".py",
   "mimetype": "text/x-python",
   "name": "python",
   "nbconvert_exporter": "python",
   "pygments_lexer": "ipython3",
   "version": "3.10.14"
  }
 },
 "nbformat": 4,
 "nbformat_minor": 5
}

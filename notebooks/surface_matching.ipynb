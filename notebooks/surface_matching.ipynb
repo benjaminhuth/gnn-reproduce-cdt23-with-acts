{
 "cells": [
  {
   "cell_type": "code",
   "execution_count": 1,
   "id": "e4bbab3b-0ea1-4d59-af50-8568cff16831",
   "metadata": {},
   "outputs": [],
   "source": [
    "import pandas as pd\n",
    "import numpy as np\n",
    "import os"
   ]
  },
  {
   "cell_type": "code",
   "execution_count": 24,
   "id": "ff180f86-ed68-4fe6-9800-9716b3b9cee3",
   "metadata": {},
   "outputs": [],
   "source": [
    "module_ids_geomodel = pd.read_csv(\"../module_ids_geomodel.csv\")\n",
    "missed_in_acts = pd.read_csv(\"../missed_surfaces.csv\")\n",
    "matched_in_acts = pd.read_csv(\"../matched_surfaces.csv\")\n",
    "from_athena = pd.read_csv(\"/home/bhuth/gsf/with_athena/geometry_dump/transforms.csv\")"
   ]
  },
  {
   "cell_type": "code",
   "execution_count": 25,
   "id": "bb3bdf64-e72c-4884-8511-0b0d7c986102",
   "metadata": {},
   "outputs": [
    {
     "data": {
      "text/plain": [
       "(58700, 6)"
      ]
     },
     "execution_count": 25,
     "metadata": {},
     "output_type": "execute_result"
    }
   ],
   "source": [
    "module_ids_geomodel.shape"
   ]
  },
  {
   "cell_type": "code",
   "execution_count": 26,
   "id": "460f9335-c70f-45be-b26f-7491f674a745",
   "metadata": {},
   "outputs": [
    {
     "data": {
      "text/plain": [
       "(580, 6)"
      ]
     },
     "execution_count": 26,
     "metadata": {},
     "output_type": "execute_result"
    }
   ],
   "source": [
    "missed_in_acts.shape"
   ]
  },
  {
   "cell_type": "code",
   "execution_count": 27,
   "id": "9f38ef21-ea91-43c6-bc86-c5f77c2871ed",
   "metadata": {},
   "outputs": [
    {
     "name": "stdout",
     "output_type": "stream",
     "text": [
      "hardware [1]\n",
      "bec [0]\n",
      "lw [0 1 2 3]\n",
      "em [-3 -2 -1]\n",
      "pm [ 0  1  2  3  4  5  6  7  8  9 10 11 12 13 14 15 16 17 18 19 20 21 22 23\n",
      " 24 25 26 27 28 29 30 31 32 33 34 35 36 37 38 39 40 41 42 43 44 45 46 47\n",
      " 48 49 50 51 52 53 54 55 57 58 61 62 63 64 66 67 68 69 71]\n"
     ]
    }
   ],
   "source": [
    "for k in [\"hardware\",\"bec\",\"lw\",\"em\",\"pm\"]:\n",
    "    print(k,np.unique(missed_in_acts[k]))"
   ]
  },
  {
   "cell_type": "code",
   "execution_count": 7,
   "id": "a763d4c7-2bb5-42cf-9783-259a3a8b4bc3",
   "metadata": {},
   "outputs": [
    {
     "data": {
      "text/plain": [
       "(38213, 7)"
      ]
     },
     "execution_count": 7,
     "metadata": {},
     "output_type": "execute_result"
    }
   ],
   "source": [
    "matched_in_acts.shape"
   ]
  },
  {
   "cell_type": "code",
   "execution_count": 8,
   "id": "a8d5fd36-c817-43b4-83fd-d1a00bb10c64",
   "metadata": {},
   "outputs": [
    {
     "name": "stdout",
     "output_type": "stream",
     "text": [
      "hw 0 bec -2 matched 3130 missed 0\n",
      "hw 0 bec 0 matched 2898 missed 0\n",
      "hw 0 bec 2 matched 3130 missed 0\n",
      "hw 1 bec -2 matched 9717 missed 0\n",
      "hw 1 bec 0 matched 9626 missed 16906\n",
      "hw 1 bec 2 matched 9712 missed 0\n"
     ]
    }
   ],
   "source": [
    "for hw in [0,1]:\n",
    "    for bec in [-2,0,2]:\n",
    "        print(\"hw\",hw,\"bec\",bec,\n",
    "              \"matched\", len(matched_in_acts[(matched_in_acts.hardware == hw) & (matched_in_acts.bec == bec)]), \n",
    "              \"missed\", len(missed_in_acts[(missed_in_acts.hardware == hw) & (missed_in_acts.bec == bec)]))"
   ]
  },
  {
   "cell_type": "code",
   "execution_count": 9,
   "id": "7e18d7cd-9a26-45b4-9bc9-5f0ca4db422d",
   "metadata": {},
   "outputs": [
    {
     "data": {
      "text/plain": [
       "(58700, 33)"
      ]
     },
     "execution_count": 9,
     "metadata": {},
     "output_type": "execute_result"
    }
   ],
   "source": [
    "from_athena.shape"
   ]
  },
  {
   "cell_type": "code",
   "execution_count": 10,
   "id": "bf196a14-b45f-4e86-b17d-34713764dd8f",
   "metadata": {},
   "outputs": [
    {
     "data": {
      "text/plain": [
       "array([6])"
      ]
     },
     "execution_count": 10,
     "metadata": {},
     "output_type": "execute_result"
    }
   ],
   "source": [
    "barrel_strips = from_athena[ (from_athena.bec == 0) & (from_athena.hardware == 1) ]\n",
    "barrel_strips.bnd_type.unique()"
   ]
  },
  {
   "cell_type": "code",
   "execution_count": null,
   "id": "a15904ba-2f52-421a-9e52-38f569a1c45b",
   "metadata": {},
   "outputs": [],
   "source": []
  },
  {
   "cell_type": "code",
   "execution_count": null,
   "id": "4692d683-ddfe-407e-b39a-f65f18de14ac",
   "metadata": {},
   "outputs": [],
   "source": []
  },
  {
   "cell_type": "code",
   "execution_count": null,
   "id": "b6fa3d93-53db-4db6-83fb-74d15d19c26d",
   "metadata": {},
   "outputs": [],
   "source": []
  },
  {
   "cell_type": "code",
   "execution_count": null,
   "id": "af416dc3-aa42-4650-8e3e-0a23c9d094e8",
   "metadata": {},
   "outputs": [],
   "source": []
  }
 ],
 "metadata": {
  "kernelspec": {
   "display_name": "Python 3 (ipykernel)",
   "language": "python",
   "name": "python3"
  },
  "language_info": {
   "codemirror_mode": {
    "name": "ipython",
    "version": 3
   },
   "file_extension": ".py",
   "mimetype": "text/x-python",
   "name": "python",
   "nbconvert_exporter": "python",
   "pygments_lexer": "ipython3",
   "version": "3.9.18"
  }
 },
 "nbformat": 4,
 "nbformat_minor": 5
}

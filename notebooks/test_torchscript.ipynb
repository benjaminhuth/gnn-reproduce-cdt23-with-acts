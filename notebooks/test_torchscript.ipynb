{
 "cells": [
  {
   "cell_type": "code",
   "execution_count": 2,
   "id": "f2586d68-c450-486c-818b-a74a6df64e81",
   "metadata": {
    "tags": []
   },
   "outputs": [],
   "source": [
    "import glob\n",
    "import sys\n",
    "sys.path.append(\"/home/bhuth/gnn/acorn\")"
   ]
  },
  {
   "cell_type": "code",
   "execution_count": 3,
   "id": "b123fea0-0b83-45bd-8b40-1b55be3d76ad",
   "metadata": {
    "tags": []
   },
   "outputs": [],
   "source": [
    "from acorn.utils.loading_utils import handle_edge_features"
   ]
  },
  {
   "cell_type": "code",
   "execution_count": 4,
   "id": "c086b93d-cb47-4559-8228-bbc2ea3dfec6",
   "metadata": {},
   "outputs": [],
   "source": [
    "import torch\n",
    "import yaml\n",
    "import numpy as np\n",
    "import pandas as pd\n",
    "import matplotlib.pyplot as plt"
   ]
  },
  {
   "cell_type": "code",
   "execution_count": 5,
   "id": "01852e2f-d3d3-4144-8fcd-708ef05750b5",
   "metadata": {
    "tags": []
   },
   "outputs": [],
   "source": [
    "def cantor_pairing(a):\n",
    "    a = np.sort(a, axis=0)\n",
    "    return a[1] + ((a[0] + a[1]) * (a[0] + a[1] + 1)) // 2\n",
    "\n",
    "\n",
    "def effpur(true, pred):\n",
    "    cantor_true = cantor_pairing(true)\n",
    "    cantor_pred = cantor_pairing(pred)\n",
    "    cantor_intersection = np.intersect1d(cantor_true, cantor_pred)\n",
    "\n",
    "    return {\n",
    "        \"eff\": len(cantor_intersection)\n",
    "        / len(cantor_true),  # if len(cantor_true) > 0 else 0,\n",
    "        \"pur\": len(cantor_intersection)\n",
    "        / len(cantor_pred),  # if len(cantor_pred) > 0 else 0,\n",
    "    }"
   ]
  },
  {
   "cell_type": "code",
   "execution_count": 6,
   "id": "630b892b-ceb4-4ef1-bca1-8e7742756c24",
   "metadata": {
    "tags": []
   },
   "outputs": [
    {
     "name": "stdout",
     "output_type": "stream",
     "text": [
      "../tmp/ctd23/feature_store/trainset/event000000000-graph.pyg, hits: 268503, track edges: 104852\n",
      "../tmp/ctd23/feature_store/valset/event000000008-graph.pyg, hits: 248400, track edges: 93715\n",
      "../tmp/ctd23/feature_store/valset/event000000006-graph.pyg, hits: 268080, track edges: 103557\n",
      "../tmp/ctd23/feature_store/valset/event000000003-graph.pyg, hits: 281917, track edges: 109389\n",
      "../tmp/ctd23/feature_store/valset/event000000002-graph.pyg, hits: 300240, track edges: 115950\n",
      "../tmp/ctd23/feature_store/valset/event000000007-graph.pyg, hits: 301102, track edges: 116163\n",
      "../tmp/ctd23/feature_store/valset/event000000009-graph.pyg, hits: 315584, track edges: 121288\n",
      "../tmp/ctd23/feature_store/valset/event000000005-graph.pyg, hits: 314595, track edges: 123207\n",
      "../tmp/ctd23/feature_store/valset/event000000004-graph.pyg, hits: 331266, track edges: 130374\n",
      "../tmp/ctd23/feature_store/testset/event000000001-graph.pyg, hits: 351293, track edges: 134084\n"
     ]
    }
   ],
   "source": [
    "for f in glob.glob(\"../tmp/ctd23/feature_store/**/*.pyg\"):\n",
    "    b = torch.load(f, map_location=\"cpu\")\n",
    "    print(f\"{f}, hits: {len(b.module_id)}, track edges: {b.track_edges.shape[1]}\")"
   ]
  },
  {
   "cell_type": "code",
   "execution_count": 7,
   "id": "c3d234e4-49eb-49fd-89d6-6c38c4a45d45",
   "metadata": {
    "tags": []
   },
   "outputs": [
    {
     "data": {
      "text/plain": [
       "\"batchnorm\":                              True\n",
       "\"bn_track_running_stats\":                 False\n",
       "\"checkpointing\":                          False\n",
       "\"concat\":                                 True\n",
       "\"data_split\":                             [7800, 1000, 1000]\n",
       "\"dataset_class\":                          GraphDataset\n",
       "\"debug\":                                  False\n",
       "\"edge_cut\":                               0.5\n",
       "\"edge_features\":                          ['dr', 'dphi', 'dz', 'deta', 'phislope', 'rphislope']\n",
       "\"edge_net_recurrent\":                     False\n",
       "\"edge_output_transform_final_activation\": None\n",
       "\"edge_output_transform_final_batch_norm\": False\n",
       "\"factor\":                                 0.9\n",
       "\"gpus\":                                   [1]\n",
       "\"hidden\":                                 128\n",
       "\"hidden_activation\":                      ReLU\n",
       "\"in_out_diff_agg\":                        True\n",
       "\"input_dir\":                              /sps/atlas/s/scaillou/itk/GNN4ITkTeam/data/ATLAS-P2-ITK-23-00-03_Rel.21.9/ttbar/module_map_ttbar_uncorr\n",
       "\"layernorm\":                              False\n",
       "\"lr\":                                     0.0005\n",
       "\"max_epochs\":                             1000\n",
       "\"min_lr\":                                 5e-06\n",
       "\"model\":                                  InteractionGNN2\n",
       "\"n_edge_decoder_layers\":                  3\n",
       "\"n_edge_encoder_layers\":                  3\n",
       "\"n_edge_net_layers\":                      3\n",
       "\"n_graph_iters\":                          8\n",
       "\"n_node_decoder_layers\":                  3\n",
       "\"n_node_encoder_layers\":                  3\n",
       "\"n_node_net_layers\":                      3\n",
       "\"node_features\":                          ['r', 'phi', 'z', 'eta', 'cluster_r_1', 'cluster_phi_1', 'cluster_z_1', 'cluster_eta_1', 'cluster_r_2', 'cluster_phi_2', 'cluster_z_2', 'cluster_eta_2']\n",
       "\"node_net_recurrent\":                     False\n",
       "\"node_scales\":                            [1000.0, 3.14159265359, 1000.0, 1.0, 1000.0, 3.14159265359, 1000.0, 1.0, 1000.0, 3.14159265359, 1000.0, 1.0]\n",
       "\"nodes\":                                  1\n",
       "\"num_workers\":                            [8, 8, 8]\n",
       "\"output_activation\":                      ReLU\n",
       "\"output_batch_norm\":                      False\n",
       "\"patience\":                               15\n",
       "\"project\":                                CTD20232023\n",
       "\"stage\":                                  edge_classifier\n",
       "\"stage_dir\":                              /sps/atlas/s/scaillou/itk/GNN4ITkTeam/data/ATLAS-P2-ITK-23-00-03_Rel.21.9/ttbar/gnn_ttbar_uncorrL2IT/\n",
       "\"track_running_stats\":                    False\n",
       "\"undirected\":                             False\n",
       "\"warmup\":                                 5\n",
       "\"weighting\":                              [{'conditions': {'y': False}, 'weight': 0.1}, {'conditions': {'y': True}, 'weight': 0.0}, {'conditions': {'eta_particle': [-4.0, 4.0], 'nhits': [3, inf], 'pdgId': ['not_in', [11, -11]], 'primary': True, 'pt': [1000, inf], 'radius': [0.0, 260.0], 'redundant_split_edges': False, 'y': True}, 'weight': 1.0}]"
      ]
     },
     "execution_count": 7,
     "metadata": {},
     "output_type": "execute_result"
    }
   ],
   "source": [
    "with open(\"../ctd23/data/gnn.pt.hparams.json\") as f:\n",
    "    hparams = yaml.load(f, Loader=yaml.Loader)\n",
    "hparams"
   ]
  },
  {
   "cell_type": "code",
   "execution_count": 8,
   "id": "527e4368-8a60-437c-96d5-440dca7143dd",
   "metadata": {},
   "outputs": [
    {
     "data": {
      "text/plain": [
       "DataBatch(x=[268503], edge_index=[2, 1340936], y=[1340936], cluster_x_2=[268503], eta_angle_2=[268503], cluster_eta_2=[268503], hit_id=[268503], phi_angle_2=[268503], z=[268503], cluster_x_1=[268503], cluster_phi_1=[268503], phi_angle_1=[268503], cluster_z_2=[268503], cluster_eta_1=[268503], cluster_y_2=[268503], cluster_y_1=[268503], cluster_z_1=[268503], module_id=[268503], eta=[268503], region=[268503], phi=[268503], eta_angle_1=[268503], norm_y_1=[268503], norm_x_2=[268503], norm_z_1=[268503], norm_y_2=[268503], r=[268503], cluster_phi_2=[268503], cluster_r_1=[268503], norm_z_2=[268503], norm_x_1=[268503], cluster_r_2=[268503], track_edges=[2, 104852], radius=[104852], pt=[104852], redundant_split_edges=[104852], pdgId=[104852], eta_particle=[104852], primary=[104852], particle_id=[104852], nhits=[104852], config=[2], event_id=[1], truth_map=[104852], weights=[1340936], dr=[1340936], dphi=[1340936], dz=[1340936], deta=[1340936], phislope=[1340936], rphislope=[1340936], batch=[268503], ptr=[2], scores=[1340936])"
      ]
     },
     "execution_count": 8,
     "metadata": {},
     "output_type": "execute_result"
    }
   ],
   "source": [
    "batch = torch.load(\"../tmp/ctd23/gnn/trainset/event000000000.pyg\", map_location=\"cpu\")\n",
    "for feat, scale in zip(hparams[\"node_features\"], hparams[\"node_scales\"]):\n",
    "    batch[feat] /= scale\n",
    "batch"
   ]
  },
  {
   "cell_type": "markdown",
   "id": "95a6b7b1-fdde-4fd1-8127-a07b84a27f8b",
   "metadata": {},
   "source": [
    "### Check metrics after module map stage"
   ]
  },
  {
   "cell_type": "code",
   "execution_count": 9,
   "id": "ff9717d1-3c5b-4967-8f7d-bba61a7ea99b",
   "metadata": {
    "tags": []
   },
   "outputs": [],
   "source": [
    "target_mask = (batch.pt > 1000) & (batch.nhits > 2) & (abs(batch.pdgId) != 11) & batch.primary.bool() & (abs(batch.eta_particle) < 4)\n",
    "batch.target_edges = batch.track_edges[:, target_mask]"
   ]
  },
  {
   "cell_type": "code",
   "execution_count": 10,
   "id": "b59adcc5-7aaa-489a-913b-5bd40c3dc3bb",
   "metadata": {
    "tags": []
   },
   "outputs": [
    {
     "data": {
      "text/plain": [
       "{'eff': 0.9946421096693177, 'pur': 0.00886022897438804}"
      ]
     },
     "execution_count": 10,
     "metadata": {},
     "output_type": "execute_result"
    }
   ],
   "source": [
    "effpur(batch.target_edges.numpy(), batch.edge_index.numpy())"
   ]
  },
  {
   "cell_type": "code",
   "execution_count": 11,
   "id": "893d909c-45d4-46b4-ab45-c789139b6555",
   "metadata": {
    "tags": []
   },
   "outputs": [
    {
     "data": {
      "text/plain": [
       "{'eff': 0.5682008926868348, 'pur': 0.04442941348431245}"
      ]
     },
     "execution_count": 11,
     "metadata": {},
     "output_type": "execute_result"
    }
   ],
   "source": [
    "effpur(batch.track_edges.numpy(), batch.edge_index.numpy())"
   ]
  },
  {
   "cell_type": "markdown",
   "id": "c6129894-71a8-497d-a060-c711f85ec2b2",
   "metadata": {},
   "source": [
    "### Run inference with torchscript"
   ]
  },
  {
   "cell_type": "code",
   "execution_count": 12,
   "id": "2aff2796-9b12-49b3-9502-bf3ac1580e21",
   "metadata": {
    "tags": []
   },
   "outputs": [
    {
     "data": {
      "text/plain": [
       "torch.Size([268503, 12])"
      ]
     },
     "execution_count": 12,
     "metadata": {},
     "output_type": "execute_result"
    }
   ],
   "source": [
    "x = torch.vstack([ batch[feat] for feat in hparams[\"node_features\"] ]).T\n",
    "x.shape"
   ]
  },
  {
   "cell_type": "code",
   "execution_count": 13,
   "id": "b480ecf7-18a5-4078-9766-ef2064f4abf8",
   "metadata": {},
   "outputs": [
    {
     "data": {
      "text/plain": [
       "torch.Size([1340936, 6])"
      ]
     },
     "execution_count": 13,
     "metadata": {},
     "output_type": "execute_result"
    }
   ],
   "source": [
    "edge_attributes = torch.vstack([ batch[feat] for feat in hparams[\"edge_features\"] ]).T\n",
    "edge_attributes.shape"
   ]
  },
  {
   "cell_type": "code",
   "execution_count": 17,
   "id": "67ed6f96-cd7a-4cca-94be-269613452689",
   "metadata": {
    "tags": []
   },
   "outputs": [
    {
     "data": {
      "text/plain": [
       "{'reserved': 8.388608, 'allocated': 7.944192}"
      ]
     },
     "execution_count": 17,
     "metadata": {},
     "output_type": "execute_result"
    }
   ],
   "source": [
    "{\"reserved\": torch.cuda.memory_reserved(0) / (1000*1000), \"allocated\": torch.cuda.memory_allocated(0) / (1000*1000)}"
   ]
  },
  {
   "cell_type": "code",
   "execution_count": 24,
   "id": "deee5ea0-bd57-4961-8aa5-0faa9acde223",
   "metadata": {
    "tags": []
   },
   "outputs": [],
   "source": [
    "gnn = torch.jit.load(\"../ctd23/data/gnn.pt\").cuda()"
   ]
  },
  {
   "cell_type": "code",
   "execution_count": 25,
   "id": "c183ccca-2a07-44f0-9c69-7ab5383a67c0",
   "metadata": {
    "tags": []
   },
   "outputs": [
    {
     "data": {
      "text/plain": [
       "{'reserved': 16.777216, 'allocated': 7.944192}"
      ]
     },
     "execution_count": 25,
     "metadata": {},
     "output_type": "execute_result"
    }
   ],
   "source": [
    "{\"reserved\": torch.cuda.memory_reserved(0) / (1000*1000), \"allocated\": torch.cuda.memory_allocated(0) / (1000*1000)}"
   ]
  },
  {
   "cell_type": "code",
   "execution_count": 37,
   "id": "732d0c5d-86ef-4f03-9d5c-087fd2d46244",
   "metadata": {},
   "outputs": [],
   "source": [
    "n_edges = 10000\n",
    "scores = gnn(x.to(torch.float32).cuda(), batch.edge_index[:, :n_edges].cuda(), edge_attributes.to(torch.float32)[:n_edges].cuda()).detach().cpu()\n",
    "scores = torch.sigmoid(scores)"
   ]
  },
  {
   "cell_type": "code",
   "execution_count": 15,
   "id": "7cd44d11-4a2f-40ab-8d3f-aeed433441f7",
   "metadata": {},
   "outputs": [
    {
     "data": {
      "image/png": "[encoded data removed]",
      "text/plain": [
       "<Figure size 640x480 with 1 Axes>"
      ]
     },
     "metadata": {},
     "output_type": "display_data"
    }
   ],
   "source": [
    "_, bins, _ = plt.hist(scores, bins=20)"
   ]
  },
  {
   "cell_type": "code",
   "execution_count": 17,
   "id": "7235e9f4-127b-4d77-9cca-215db41a66a8",
   "metadata": {
    "tags": []
   },
   "outputs": [
    {
     "data": {
      "text/plain": [
       "{'eff': 0.30811179277436945, 'pur': 0.9720430107526882}"
      ]
     },
     "execution_count": 17,
     "metadata": {},
     "output_type": "execute_result"
    }
   ],
   "source": [
    "effpur(batch.track_edges.numpy(), scored_edge_index.numpy())"
   ]
  },
  {
   "cell_type": "code",
   "execution_count": 16,
   "id": "be8e8d52-4c90-46eb-b22d-e2aa8eebdd51",
   "metadata": {
    "tags": []
   },
   "outputs": [],
   "source": [
    "scored_edge_index = batch.edge_index[:, scores > 0.5]"
   ]
  },
  {
   "cell_type": "code",
   "execution_count": 18,
   "id": "9ac4c5e1-3ca6-4b29-92a6-f2cc263cb72f",
   "metadata": {
    "tags": []
   },
   "outputs": [
    {
     "data": {
      "text/plain": [
       "{'eff': 0.987012987012987, 'pur': 0.49032258064516127}"
      ]
     },
     "execution_count": 18,
     "metadata": {},
     "output_type": "execute_result"
    }
   ],
   "source": [
    "effpur(batch.target_edges.numpy(), scored_edge_index.numpy())"
   ]
  },
  {
   "cell_type": "markdown",
   "id": "c5168af0-449d-4aee-b602-eebc237dc0c9",
   "metadata": {},
   "source": [
    "### Compare to acorn"
   ]
  },
  {
   "cell_type": "code",
   "execution_count": 19,
   "id": "388dd94e-b8d4-4da7-b0c1-48cf7ef4440e",
   "metadata": {
    "tags": []
   },
   "outputs": [
    {
     "data": {
      "image/png": "[encoded data removed]",
      "text/plain": [
       "<Figure size 640x480 with 1 Axes>"
      ]
     },
     "metadata": {},
     "output_type": "display_data"
    }
   ],
   "source": [
    "_ = plt.hist(batch.scores, bins=20)"
   ]
  },
  {
   "cell_type": "code",
   "execution_count": 20,
   "id": "a1778384-2f0f-4912-a36e-291ba600b328",
   "metadata": {
    "tags": []
   },
   "outputs": [
    {
     "data": {
      "text/plain": [
       "{'eff': 0.30811179277436945, 'pur': 0.9720430107526882}"
      ]
     },
     "execution_count": 20,
     "metadata": {},
     "output_type": "execute_result"
    }
   ],
   "source": [
    "effpur(batch.track_edges.numpy(), batch.edge_index[:, batch.scores > 0.5])"
   ]
  },
  {
   "cell_type": "code",
   "execution_count": 21,
   "id": "5b81c716-f396-4f3a-8276-3e65e467e266",
   "metadata": {
    "tags": []
   },
   "outputs": [
    {
     "data": {
      "text/plain": [
       "{'eff': 0.987012987012987, 'pur': 0.49032258064516127}"
      ]
     },
     "execution_count": 21,
     "metadata": {},
     "output_type": "execute_result"
    }
   ],
   "source": [
    "effpur(batch.target_edges.numpy(), batch.edge_index[:, batch.scores > 0.5])"
   ]
  },
  {
   "cell_type": "code",
   "execution_count": null,
   "id": "3bdba73b-7b91-44a4-aa00-3f2272f1a5c7",
   "metadata": {},
   "outputs": [],
   "source": []
  },
  {
   "cell_type": "code",
   "execution_count": null,
   "id": "aaa6acfd-f80f-4a6f-9b49-42d89efcc911",
   "metadata": {},
   "outputs": [],
   "source": []
  },
  {
   "cell_type": "code",
   "execution_count": 66,
   "id": "276bfd88-d7a8-46dd-8119-ed594c399b51",
   "metadata": {
    "tags": []
   },
   "outputs": [],
   "source": [
    "rename_dict = {\n",
    "    \"deltaR\": \"dr\",\n",
    "    \" deltaEta\": \"deta\",\n",
    "    \" deltaZ\": \"dz\",\n",
    "    \" deltaPhi\": \"dphi\",\n",
    "    \" phiSlope\": \"phislope\",\n",
    "    \" rPhiSlope\": \"rphislope\"\n",
    "}\n",
    "\n",
    "acts_features = pd.read_csv(\"../edge_features.csv\", index_col=False)\n",
    "acts_features.rename(columns=rename_dict, inplace=True)"
   ]
  },
  {
   "cell_type": "code",
   "execution_count": 67,
   "id": "cfd97726-dc08-47a2-bede-59b081a00eb0",
   "metadata": {
    "tags": []
   },
   "outputs": [
    {
     "data": {
      "text/html": [
       "<div>\n",
       "<style scoped>\n",
       "    .dataframe tbody tr th:only-of-type {\n",
       "        vertical-align: middle;\n",
       "    }\n",
       "\n",
       "    .dataframe tbody tr th {\n",
       "        vertical-align: top;\n",
       "    }\n",
       "\n",
       "    .dataframe thead th {\n",
       "        text-align: right;\n",
       "    }\n",
       "</style>\n",
       "<table border=\"1\" class=\"dataframe\">\n",
       "  <thead>\n",
       "    <tr style=\"text-align: right;\">\n",
       "      <th></th>\n",
       "      <th>dr</th>\n",
       "      <th>dphi</th>\n",
       "      <th>dz</th>\n",
       "      <th>deta</th>\n",
       "      <th>phislope</th>\n",
       "      <th>rphislope</th>\n",
       "    </tr>\n",
       "  </thead>\n",
       "  <tbody>\n",
       "    <tr>\n",
       "      <th>0</th>\n",
       "      <td>0.004368</td>\n",
       "      <td>1.99761</td>\n",
       "      <td>-0.057</td>\n",
       "      <td>-0.002614</td>\n",
       "      <td>457.321</td>\n",
       "      <td>18.5404</td>\n",
       "    </tr>\n",
       "    <tr>\n",
       "      <th>1</th>\n",
       "      <td>0.004572</td>\n",
       "      <td>1.99779</td>\n",
       "      <td>-0.061</td>\n",
       "      <td>-0.004409</td>\n",
       "      <td>436.916</td>\n",
       "      <td>19.6663</td>\n",
       "    </tr>\n",
       "    <tr>\n",
       "      <th>2</th>\n",
       "      <td>0.003686</td>\n",
       "      <td>1.99817</td>\n",
       "      <td>-0.049</td>\n",
       "      <td>-0.004778</td>\n",
       "      <td>542.142</td>\n",
       "      <td>19.7960</td>\n",
       "    </tr>\n",
       "  </tbody>\n",
       "</table>\n",
       "</div>"
      ],
      "text/plain": [
       "         dr     dphi     dz      deta  phislope  rphislope\n",
       "0  0.004368  1.99761 -0.057 -0.002614   457.321    18.5404\n",
       "1  0.004572  1.99779 -0.061 -0.004409   436.916    19.6663\n",
       "2  0.003686  1.99817 -0.049 -0.004778   542.142    19.7960"
      ]
     },
     "execution_count": 67,
     "metadata": {},
     "output_type": "execute_result"
    }
   ],
   "source": [
    "acts_features.head(3)"
   ]
  },
  {
   "cell_type": "code",
   "execution_count": 71,
   "id": "ebe4baa6-cd6a-44e2-9e5a-34cbe066275d",
   "metadata": {
    "tags": []
   },
   "outputs": [
    {
     "data": {
      "image/png": "[encoded data removed]",
      "text/plain": [
       "<Figure size 2000x300 with 6 Axes>"
      ]
     },
     "metadata": {},
     "output_type": "display_data"
    }
   ],
   "source": [
    "fig, axes = plt.subplots(1, len(hparams[\"edge_features\"]), figsize=(20,3))\n",
    "\n",
    "for feat, ax in zip(hparams[\"edge_features\"], axes):\n",
    "    _, bins, _ = ax.hist(acts_features[feat], bins=20, alpha=0.3, label=\"acts\")\n",
    "    _, bins, _ = ax.hist(batch[feat], bins=bins, alpha=0.3, label=\"acorn\")\n",
    "    ax.set_title(feat)\n",
    "    ax.set_yscale('log')\n",
    "    ax.legend()"
   ]
  },
  {
   "cell_type": "code",
   "execution_count": null,
   "id": "f7fad1f5-e974-464a-9208-b5dc17ad677b",
   "metadata": {},
   "outputs": [],
   "source": []
  }
 ],
 "metadata": {
  "kernelspec": {
   "display_name": "Python 3 (ipykernel)",
   "language": "python",
   "name": "python3"
  },
  "language_info": {
   "codemirror_mode": {
    "name": "ipython",
    "version": 3
   },
   "file_extension": ".py",
   "mimetype": "text/x-python",
   "name": "python",
   "nbconvert_exporter": "python",
   "pygments_lexer": "ipython3",
   "version": "3.9.18"
  }
 },
 "nbformat": 4,
 "nbformat_minor": 5
}
